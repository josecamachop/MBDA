{
 "cells": [
  {
   "cell_type": "code",
   "execution_count": 1,
   "id": "e33485e3-c3a4-486c-a8f9-f3556284934f",
   "metadata": {},
   "outputs": [],
   "source": [
    "# Example of DOWNSTREAM analysis in Python with the FCParser\n",
    "# Data Analysis as a Service - © ANIMaLICoS. Supported by the Agencia Estatal de Investigacion in Spain, MCIN/AEI/ 10.13039/501100011033, grant No PID2020-113462RB-I00\n",
    "# Coded by: José Camacho (jcamacho@ugr.es)\n",
    "# Last modification: 13/06/2024"
   ]
  },
  {
   "cell_type": "code",
   "execution_count": 2,
   "id": "bb37eb45-12f6-44e3-a6b3-ce6434ec3bcf",
   "metadata": {},
   "outputs": [
    {
     "name": "stdout",
     "output_type": "stream",
     "text": [
      "* Threshold: 10 log entries per data source\n",
      "* Time sampling window: 1 minutes\n",
      "** Creating output directory deparsing_output/\n",
      " ** Defining default log file: 'stats.log'\n",
      "\u001b[32mGENERAL CONFIGURATION FILE... OK\u001b[m\n",
      "LOADING DATA SOURCES CONFIGURATION FILES...\n",
      "* File: config/netflow.yaml\n",
      "\u001b[33mLoading FCdeparser... Run program in debug mode with -d option in order to check the selection criteria in more detail\u001b[m\n",
      "\n",
      "-------------------------------- FCDEPARSER -------------------------------\n",
      "* Loaded Deparsing input file.\u001b[m\n",
      "- Features to search: ['sport_register', 'dport_register', 'protocol_udp', 'srctos_other', 'in_nbytes_low']\n",
      "---------------------------------------------------------------------------\n",
      "\n",
      "Loading 'netflow' data source...\n",
      "Number of logs with 5 matched features: 16582\n",
      "Number of logs with 4 matched features: 4088\n",
      "Number of logs with 3 matched features: 34487\n",
      "Number of logs with 2 matched features: 43497\n",
      "Number of logs with 1 matched features: 17725\n",
      "Total number of logs in file: 5537039\n",
      "Considering the feature counters and a threshold of 10 log entries, we will extract logs with >=5 matched features\n",
      "Note that the output will be generated in different files according to their number of features\n",
      "Elapsed: 1 mins, 50 secs\n",
      "---------------------------------------------------------------------------\n",
      "\n",
      "Search finished:\n",
      "Elapsed: 1 mins, 50 secs\n",
      " Structured logs found:  16582 out of 5537039\n",
      " Unstructured logs found: 0 out of 0\n",
      "\n",
      "---------------------------------------------------------------------------\n",
      "\n"
     ]
    }
   ],
   "source": [
    "# Deparsing: the output is stored in folder deparsing_output\n",
    "# While the script attempts to use 4 cores, less cores may be available without a warning\n",
    "# Warning: this process can take round 15m for 4 cores, and up to an hour for 1 core\n",
    "\n",
    "%run -i /FCParser/bin/fcdeparser.py config/configuration.yaml deparsing_input"
   ]
  },
  {
   "cell_type": "code",
   "execution_count": 3,
   "id": "35d0eca9-d782-4e5f-8d80-3a78203c76b4",
   "metadata": {},
   "outputs": [
    {
     "name": "stdout",
     "output_type": "stream",
     "text": [
      "  16386 195.213.162.217\n",
      "     78 42.219.153.89\n",
      "     12 42.219.155.59\n",
      "     11 42.219.159.76\n",
      "     10 42.219.159.181\n",
      "      6 42.219.159.94\n",
      "      3 43.246.164.136\n",
      "      2 42.219.159.85\n",
      "      2 42.219.159.188\n",
      "      2 36.4.242.200\n"
     ]
    }
   ],
   "source": [
    "# Visualize IPs in deparsed logs: (almost) All logs reference to 195.213.162.217 traffic\n",
    "\n",
    "import subprocess, sys\n",
    "\n",
    "subprocess.run(\"cat deparsing_output/output_netflow_5feat | grep 2016 | awk -F',' '{print $4 \"+\"\\n\"+\" $5}' | sort | uniq -c | sort -n -r | head\", shell = True, executable=\"/bin/bash\");"
   ]
  },
  {
   "cell_type": "code",
   "execution_count": 5,
   "id": "5506183c-267f-4fe9-94f7-f5d99b621e3d",
   "metadata": {},
   "outputs": [
    {
     "name": "stdout",
     "output_type": "stream",
     "text": [
      "Top 10 Port ordered by -:\n",
      "Date first seen          Duration Proto              Port    Flows(%)     Packets(%)       Bytes(%)         pps      bps   bpp\n",
      "2016-04-13 03:25:23.336     3.708 any                   0       74( 0.4)      254( 1.5)   110650( 1.5)       68   238727   435\n",
      "2016-04-13 03:25:23.348     0.580 any                5064     4097(24.9)     4097(24.6)    1.8 M(24.6)     7063   25.0 M   441\n",
      "2016-04-13 03:25:23.332     4.052 any                5063     4096(24.9)     4096(24.6)    1.8 M(24.6)     1010    3.6 M   441\n",
      "2016-04-13 03:25:23.332     4.008 any                5062     4096(24.9)     4096(24.6)    1.8 M(24.6)     1021    3.6 M   441\n",
      "2016-04-13 03:25:23.332     4.052 any                5061     4097(24.9)     4097(24.6)    1.8 M(24.6)     1011    3.6 M   441\n",
      "2016-04-13 03:25:23.332     4.052 any                5060    16386(99.6)    16386(98.5)    7.2 M(98.5)     4043   14.3 M   441\n",
      "2016-04-13 03:25:23.920     0.016 any                 781        5( 0.0)        5( 0."
     ]
    },
    {
     "data": {
      "text/plain": [
       "CompletedProcess(args=\"nfdump -r /UGR-16/nfcapd/april/week3/nfcapd_week3_anon -t 2016/04/13.03:00:00-2016/04/13.04:00:00 -s port 'ip 195.213.162.217'\", returncode=0)"
      ]
     },
     "execution_count": 5,
     "metadata": {},
     "output_type": "execute_result"
    },
    {
     "name": "stdout",
     "output_type": "stream",
     "text": [
      "0)      280( 0.0)      312   140000    56\n",
      "2016-04-13 03:25:23.892     0.004 any                 778        3( 0.0)        5( 0.0)     2346( 0.0)     1250    4.7 M   469\n",
      "2016-04-13 03:25:23.336     0.640 any                 771       63( 0.4)      210( 1.3)    92042( 1.3)      328    1.2 M   438\n",
      "2016-04-13 03:25:25.968     1.076 any                 769        3( 0.0)       34( 0.2)    15982( 0.2)       31   118825   470\n",
      "\n",
      "IP addresses anonymised\n",
      "Summary: total flows: 16460, total bytes: 7.4 M, total packets: 16640, avg bps: 14.5 M, avg pps: 4106, avg bpp: 441\n",
      "Time window: 2016-04-10 21:56:48 - 2016-04-17 22:02:29\n",
      "Total flows processed: 1108309991, Blocks skipped: 0, Bytes read: 62063537032\n",
      "Sys: 138.971s flows/second: 7975099.3  Wall: 138.927s flows/second: 7977588.0 \n"
     ]
    }
   ],
   "source": [
    "# Validate with nfdump looking at 195.213.162.217 traffic\n",
    "# Warning: this process takes around 2m \n",
    "# Flows are between port 5060 to 5061-5064. This could be probing activity to look for open SIP services (https://www.speedguide.net/port.php?port=5060)\n",
    "\n",
    "import subprocess, sys\n",
    "\n",
    "subprocess.run(\"nfdump -r /UGR-16/nfcapd/april/week3/nfcapd_week3_anon -t 2016/04/13.03:00:00-2016/04/13.04:00:00 -s port 'ip 195.213.162.217'\", shell = True, executable=\"/bin/bash\")\n",
    "\n",
    "\n"
   ]
  },
  {
   "cell_type": "code",
   "execution_count": null,
   "id": "88a7f545-3d14-4ca7-9604-f8ab6b1fbdb5",
   "metadata": {},
   "outputs": [],
   "source": []
  }
 ],
 "metadata": {
  "kernelspec": {
   "display_name": "Python 3 (ipykernel)",
   "language": "python",
   "name": "python3"
  },
  "language_info": {
   "codemirror_mode": {
    "name": "ipython",
    "version": 3
   },
   "file_extension": ".py",
   "mimetype": "text/x-python",
   "name": "python",
   "nbconvert_exporter": "python",
   "pygments_lexer": "ipython3",
   "version": "3.8.10"
  }
 },
 "nbformat": 4,
 "nbformat_minor": 5
}
