{
 "cells": [
  {
   "cell_type": "code",
   "execution_count": 1,
   "id": "e33485e3-c3a4-486c-a8f9-f3556284934f",
   "metadata": {},
   "outputs": [],
   "source": [
    "# Example of UPSTREAM analysis in Python with the FCParser\n",
    "# Data Analysis as a Service - © ANIMaLICoS. Supported by the Agencia Estatal de Investigacion in Spain, MCIN/AEI/ 10.13039/501100011033, grant No PID2020-113462RB-I00\n",
    "# Coded by: José Camacho (jcamacho@ugr.es)\n",
    "# Last modification: 13/06/2024"
   ]
  },
  {
   "cell_type": "code",
   "execution_count": 2,
   "id": "b5b023ac-c7c1-4a92-9a55-e37f82c1b650",
   "metadata": {},
   "outputs": [
    {
     "data": {
      "text/plain": [
       "CompletedProcess(args=\"nfdump -r /UGR-16/nfcapd/april/week3/nfcapd_week3_anon -t 2016/04/13.03:00:00-2016/04/13.04:00:00 -q -N -o 'csv' > nf_20160413_0304.csv\", returncode=0)"
      ]
     },
     "execution_count": 2,
     "metadata": {},
     "output_type": "execute_result"
    }
   ],
   "source": [
    "# Tranform binary nfcapd format into csv readable format\n",
    "# Warning: this process takes around 5m \n",
    "\n",
    "import subprocess, sys\n",
    "\n",
    "subprocess.run(\"nfdump -r /UGR-16/nfcapd/april/week3/nfcapd_week3_anon -t 2016/04/13.03:00:00-2016/04/13.04:00:00 -q -N -o 'csv' > nf_20160413_0304.csv\", shell = True, executable=\"/bin/bash\")\n"
   ]
  },
  {
   "cell_type": "code",
   "execution_count": 3,
   "id": "bb37eb45-12f6-44e3-a6b3-ce6434ec3bcf",
   "metadata": {},
   "outputs": [
    {
     "name": "stdout",
     "output_type": "stream",
     "text": [
      "LOADING GENERAL CONFIGURATION FILE...\n",
      "* Offline mode (multiprocess)\n",
      "* Incremental_output: False\n",
      "* Cores: 4\n",
      "* Max_chunk: 10000 MB\n",
      "* Time sampling window: 1 minutes\n",
      "** Creating output directory parsing_output/\n",
      " ** Defining default weights file: 'weights.dat'\n",
      "\u001b[32mGENERAL CONFIGURATION FILE... OK\u001b[m\n",
      "LOADING DATA SOURCES CONFIGURATION FILES...\n",
      "* File: config/netflow.yaml\n",
      "-----------------------------------------------------------------------\n",
      "Data Sources:\n",
      " * netflow            13 variables   142 features\n",
      " TOTAL 142 features\n",
      "\n",
      "Output:\n",
      "  Directory: parsing_output/\n",
      "  Stats file: stats.log\n",
      "  Weights file: weights.dat\n",
      "-----------------------------------------------------------------------\n",
      "\n",
      "\u001b[33mNote: Malformed logs or inaccurate data source configuration files will result in None variables which will not be counted in any feature.\n",
      "Run program in debug mode with -d option to check how the records are parsed.\u001b[m\n",
      "\n",
      "-----------------------------------------------------------------------\n",
      "\n",
      "Elapsed: 1 secs \n",
      "\n",
      "netflow  #1 / 1  nf_20160413_0304\n",
      "Elapsed: 15 mins, 5 secs \n",
      "\n"
     ]
    }
   ],
   "source": [
    "# Parsing: the output is stored in folder parsing_output\n",
    "# While the script attempts to use 4 cores, less cores may be available without a warning\n",
    "# Warning: this process can take round 15m for 4 cores, and up to an hour for 1 core\n",
    "\n",
    "%run -i /FCParser/bin/fcparser.py config/configuration.yaml"
   ]
  },
  {
   "cell_type": "code",
   "execution_count": null,
   "id": "35d0eca9-d782-4e5f-8d80-3a78203c76b4",
   "metadata": {},
   "outputs": [],
   "source": [
    "\n"
   ]
  }
 ],
 "metadata": {
  "kernelspec": {
   "display_name": "Python 3 (ipykernel)",
   "language": "python",
   "name": "python3"
  },
  "language_info": {
   "codemirror_mode": {
    "name": "ipython",
    "version": 3
   },
   "file_extension": ".py",
   "mimetype": "text/x-python",
   "name": "python",
   "nbconvert_exporter": "python",
   "pygments_lexer": "ipython3",
   "version": "3.8.10"
  }
 },
 "nbformat": 4,
 "nbformat_minor": 5
}
